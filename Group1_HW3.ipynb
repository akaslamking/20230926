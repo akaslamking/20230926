{
  "nbformat": 4,
  "nbformat_minor": 0,
  "metadata": {
    "colab": {
      "provenance": []
    },
    "kernelspec": {
      "name": "python3",
      "display_name": "Python 3"
    },
    "language_info": {
      "name": "python"
    }
  },
  "cells": [
    {
      "cell_type": "code",
      "execution_count": 5,
      "metadata": {
        "colab": {
          "base_uri": "https://localhost:8080/"
        },
        "id": "6-0GuDdMmay5",
        "outputId": "ff3d9acc-ebe5-412a-c889-c9b1a8779544"
      },
      "outputs": [
        {
          "output_type": "stream",
          "name": "stdout",
          "text": [
            "I'm a student\n"
          ]
        }
      ],
      "source": [
        "print(\"I'm a student\")\n",
        "\n"
      ]
    },
    {
      "cell_type": "code",
      "source": [
        "a = int(input('請輸入x1='))\n",
        "b = int(input('請輸入y1='))\n",
        "c = int(input('請輸入x2='))\n",
        "d = int(input('請輸入y2='))\n",
        "a -= c\n",
        "\n",
        "b -= d\n",
        "\n",
        "print('AB距離=', ((a**2+b**2)0**(1/2)))"
      ],
      "metadata": {
        "colab": {
          "base_uri": "https://localhost:8080/"
        },
        "id": "GmXwGPyMmn91",
        "outputId": "0fb54bd2-3ce4-46db-dc7f-f817b646e378"
      },
      "execution_count": 3,
      "outputs": [
        {
          "output_type": "stream",
          "name": "stdout",
          "text": [
            "請輸入x1=0\n",
            "請輸入y1=0\n",
            "請輸入x2=1\n",
            "請輸入y2=1\n",
            "AB距離= 1.4142135623730951\n"
          ]
        }
      ]
    },
    {
      "cell_type": "code",
      "source": [
        "a = int(input('身高為(cm)'))\n",
        "b = int(input('體重為(kg)'))\n",
        "b /= 0.01*a\n",
        "b /= 0.01*a\n",
        "print(int(b<18.5))"
      ],
      "metadata": {
        "colab": {
          "base_uri": "https://localhost:8080/"
        },
        "id": "HRdj__l_npXx",
        "outputId": "d60e9e3e-3821-420f-ff38-3e264f4030fa"
      },
      "execution_count": 8,
      "outputs": [
        {
          "output_type": "stream",
          "name": "stdout",
          "text": [
            "身高為(cm)182\n",
            "體重為(kg)75\n",
            "0\n"
          ]
        }
      ]
    }
  ]
}